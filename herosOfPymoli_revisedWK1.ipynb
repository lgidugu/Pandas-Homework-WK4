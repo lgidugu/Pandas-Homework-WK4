{
 "cells": [
  {
   "cell_type": "code",
   "execution_count": 74,
   "metadata": {},
   "outputs": [],
   "source": [
    "import pandas as pd\n",
    "import numpy as np\n",
    "import matplotlib.pyplot as plt"
   ]
  },
  {
   "cell_type": "code",
   "execution_count": 75,
   "metadata": {},
   "outputs": [],
   "source": [
    "#Reading the file\n",
    "pyMoli_datafile = \"purchase_data.json\""
   ]
  },
  {
   "cell_type": "code",
   "execution_count": 76,
   "metadata": {},
   "outputs": [
    {
     "data": {
      "text/html": [
       "<div>\n",
       "<style scoped>\n",
       "    .dataframe tbody tr th:only-of-type {\n",
       "        vertical-align: middle;\n",
       "    }\n",
       "\n",
       "    .dataframe tbody tr th {\n",
       "        vertical-align: top;\n",
       "    }\n",
       "\n",
       "    .dataframe thead th {\n",
       "        text-align: right;\n",
       "    }\n",
       "</style>\n",
       "<table border=\"1\" class=\"dataframe\">\n",
       "  <thead>\n",
       "    <tr style=\"text-align: right;\">\n",
       "      <th></th>\n",
       "      <th>Age</th>\n",
       "      <th>Gender</th>\n",
       "      <th>Item ID</th>\n",
       "      <th>Item Name</th>\n",
       "      <th>Price</th>\n",
       "      <th>SN</th>\n",
       "    </tr>\n",
       "  </thead>\n",
       "  <tbody>\n",
       "    <tr>\n",
       "      <th>0</th>\n",
       "      <td>38</td>\n",
       "      <td>Male</td>\n",
       "      <td>165</td>\n",
       "      <td>Bone Crushing Silver Skewer</td>\n",
       "      <td>3.37</td>\n",
       "      <td>Aelalis34</td>\n",
       "    </tr>\n",
       "    <tr>\n",
       "      <th>1</th>\n",
       "      <td>21</td>\n",
       "      <td>Male</td>\n",
       "      <td>119</td>\n",
       "      <td>Stormbringer, Dark Blade of Ending Misery</td>\n",
       "      <td>2.32</td>\n",
       "      <td>Eolo46</td>\n",
       "    </tr>\n",
       "    <tr>\n",
       "      <th>2</th>\n",
       "      <td>34</td>\n",
       "      <td>Male</td>\n",
       "      <td>174</td>\n",
       "      <td>Primitive Blade</td>\n",
       "      <td>2.46</td>\n",
       "      <td>Assastnya25</td>\n",
       "    </tr>\n",
       "    <tr>\n",
       "      <th>3</th>\n",
       "      <td>21</td>\n",
       "      <td>Male</td>\n",
       "      <td>92</td>\n",
       "      <td>Final Critic</td>\n",
       "      <td>1.36</td>\n",
       "      <td>Pheusrical25</td>\n",
       "    </tr>\n",
       "    <tr>\n",
       "      <th>4</th>\n",
       "      <td>23</td>\n",
       "      <td>Male</td>\n",
       "      <td>63</td>\n",
       "      <td>Stormfury Mace</td>\n",
       "      <td>1.27</td>\n",
       "      <td>Aela59</td>\n",
       "    </tr>\n",
       "  </tbody>\n",
       "</table>\n",
       "</div>"
      ],
      "text/plain": [
       "   Age Gender  Item ID                                  Item Name  Price  \\\n",
       "0   38   Male      165                Bone Crushing Silver Skewer   3.37   \n",
       "1   21   Male      119  Stormbringer, Dark Blade of Ending Misery   2.32   \n",
       "2   34   Male      174                            Primitive Blade   2.46   \n",
       "3   21   Male       92                               Final Critic   1.36   \n",
       "4   23   Male       63                             Stormfury Mace   1.27   \n",
       "\n",
       "             SN  \n",
       "0     Aelalis34  \n",
       "1        Eolo46  \n",
       "2   Assastnya25  \n",
       "3  Pheusrical25  \n",
       "4        Aela59  "
      ]
     },
     "execution_count": 76,
     "metadata": {},
     "output_type": "execute_result"
    }
   ],
   "source": [
    "pyMoli_datafile_pd = pd.read_json(pyMoli_datafile)\n",
    "pyMoli_datafile_pd.head()"
   ]
  },
  {
   "cell_type": "code",
   "execution_count": 77,
   "metadata": {},
   "outputs": [
    {
     "name": "stdout",
     "output_type": "stream",
     "text": [
      "Total Players: 573\n"
     ]
    }
   ],
   "source": [
    "#Count of total Player\n",
    "Total_players = pyMoli_datafile_pd[\"SN\"].nunique()\n",
    "print(\"Total Players: \"+str(pyMoli_datafile_pd[\"SN\"].nunique()))"
   ]
  },
  {
   "cell_type": "code",
   "execution_count": 78,
   "metadata": {},
   "outputs": [
    {
     "data": {
      "text/html": [
       "<div>\n",
       "<style scoped>\n",
       "    .dataframe tbody tr th:only-of-type {\n",
       "        vertical-align: middle;\n",
       "    }\n",
       "\n",
       "    .dataframe tbody tr th {\n",
       "        vertical-align: top;\n",
       "    }\n",
       "\n",
       "    .dataframe thead th {\n",
       "        text-align: right;\n",
       "    }\n",
       "</style>\n",
       "<table border=\"1\" class=\"dataframe\">\n",
       "  <thead>\n",
       "    <tr style=\"text-align: right;\">\n",
       "      <th></th>\n",
       "      <th>Players Count</th>\n",
       "    </tr>\n",
       "  </thead>\n",
       "  <tbody>\n",
       "    <tr>\n",
       "      <th>0</th>\n",
       "      <td>573</td>\n",
       "    </tr>\n",
       "  </tbody>\n",
       "</table>\n",
       "</div>"
      ],
      "text/plain": [
       "   Players Count\n",
       "0            573"
      ]
     },
     "execution_count": 78,
     "metadata": {},
     "output_type": "execute_result"
    }
   ],
   "source": [
    "df_total_players = pd.DataFrame({\"Players Count\":[Total_players]})\n",
    "df_total_players"
   ]
  },
  {
   "cell_type": "code",
   "execution_count": 79,
   "metadata": {},
   "outputs": [
    {
     "name": "stdout",
     "output_type": "stream",
     "text": [
      "Number of unique items: 183\n"
     ]
    }
   ],
   "source": [
    "#Calculations for purchase Analysis\n",
    "unique_items_count = pyMoli_datafile_pd[\"Item ID\"].nunique()\n",
    "print(\"Number of unique items: \"+str(pyMoli_datafile_pd[\"Item ID\"].nunique()))"
   ]
  },
  {
   "cell_type": "code",
   "execution_count": 80,
   "metadata": {},
   "outputs": [
    {
     "name": "stdout",
     "output_type": "stream",
     "text": [
      "The average price of an item: $2.93\n"
     ]
    }
   ],
   "source": [
    "average_purhasePrice = round(pyMoli_datafile_pd[\"Price\"].mean(), 2)\n",
    "print(\"The average price of an item: $\" + str(average_purhasePrice))                        "
   ]
  },
  {
   "cell_type": "code",
   "execution_count": 81,
   "metadata": {},
   "outputs": [
    {
     "data": {
      "text/plain": [
       "Male                     633\n",
       "Female                   136\n",
       "Other / Non-Disclosed     11\n",
       "Name: Gender, dtype: int64"
      ]
     },
     "execution_count": 81,
     "metadata": {},
     "output_type": "execute_result"
    }
   ],
   "source": [
    "itemsPurchased_count = pyMoli_datafile_pd[\"Gender\"].value_counts()\n",
    "itemsPurchased_count"
   ]
  },
  {
   "cell_type": "code",
   "execution_count": 82,
   "metadata": {},
   "outputs": [],
   "source": [
    "itemsPurchased_count_pd = pd.DataFrame(itemsPurchased_count)\n"
   ]
  },
  {
   "cell_type": "code",
   "execution_count": 83,
   "metadata": {},
   "outputs": [
    {
     "name": "stdout",
     "output_type": "stream",
     "text": [
      "The total items purchase are: 780\n"
     ]
    }
   ],
   "source": [
    "totalItemsPurchased = itemsPurchased_count_pd[\"Gender\"].sum()\n",
    "print(\"The total items purchase are: \" +str(totalItemsPurchased))"
   ]
  },
  {
   "cell_type": "code",
   "execution_count": 84,
   "metadata": {},
   "outputs": [
    {
     "name": "stdout",
     "output_type": "stream",
     "text": [
      "The total revenue: $2286.33\n"
     ]
    }
   ],
   "source": [
    "totalRevenue = round(pyMoli_datafile_pd[\"Price\"].sum(), 2)\n",
    "print(\"The total revenue: $\" + str(totalRevenue))"
   ]
  },
  {
   "cell_type": "code",
   "execution_count": 85,
   "metadata": {},
   "outputs": [
    {
     "data": {
      "text/html": [
       "<div>\n",
       "<style scoped>\n",
       "    .dataframe tbody tr th:only-of-type {\n",
       "        vertical-align: middle;\n",
       "    }\n",
       "\n",
       "    .dataframe tbody tr th {\n",
       "        vertical-align: top;\n",
       "    }\n",
       "\n",
       "    .dataframe thead th {\n",
       "        text-align: right;\n",
       "    }\n",
       "</style>\n",
       "<table border=\"1\" class=\"dataframe\">\n",
       "  <thead>\n",
       "    <tr style=\"text-align: right;\">\n",
       "      <th></th>\n",
       "      <th>Average PurchasingPrice</th>\n",
       "      <th>Number of unique items</th>\n",
       "      <th>The total Revennue</th>\n",
       "      <th>The total items purchased</th>\n",
       "    </tr>\n",
       "  </thead>\n",
       "  <tbody>\n",
       "    <tr>\n",
       "      <th>0</th>\n",
       "      <td>2.93</td>\n",
       "      <td>183</td>\n",
       "      <td>2286.33</td>\n",
       "      <td>780</td>\n",
       "    </tr>\n",
       "  </tbody>\n",
       "</table>\n",
       "</div>"
      ],
      "text/plain": [
       "   Average PurchasingPrice  Number of unique items  The total Revennue  \\\n",
       "0                     2.93                     183             2286.33   \n",
       "\n",
       "   The total items purchased  \n",
       "0                        780  "
      ]
     },
     "execution_count": 85,
     "metadata": {},
     "output_type": "execute_result"
    }
   ],
   "source": [
    "#final Purchase anlysis\n",
    "df_purchasingAnalysis = pd.DataFrame({\"Number of unique items\":[unique_items_count], \"Average PurchasingPrice\":[average_purhasePrice], \"The total items purchased\":[totalItemsPurchased], \"The total Revennue\":[totalRevenue]})\n",
    "df_purchasingAnalysis"
   ]
  },
  {
   "cell_type": "code",
   "execution_count": 86,
   "metadata": {},
   "outputs": [],
   "source": [
    "#Gender Analysis: Male\n",
    "malePlayer_df = pyMoli_datafile_pd.loc[pyMoli_datafile_pd[\"Gender\"]==\"Male\"]"
   ]
  },
  {
   "cell_type": "code",
   "execution_count": 87,
   "metadata": {},
   "outputs": [
    {
     "data": {
      "text/plain": [
       "465"
      ]
     },
     "execution_count": 87,
     "metadata": {},
     "output_type": "execute_result"
    }
   ],
   "source": [
    "totalMale_players = malePlayer_df[\"SN\"].nunique()\n",
    "totalMale_players"
   ]
  },
  {
   "cell_type": "code",
   "execution_count": 88,
   "metadata": {},
   "outputs": [],
   "source": [
    "#Gender analysis female\n",
    "femalePlayer_df = pyMoli_datafile_pd.loc[pyMoli_datafile_pd[\"Gender\"]==\"Female\"]\n"
   ]
  },
  {
   "cell_type": "code",
   "execution_count": 89,
   "metadata": {},
   "outputs": [
    {
     "data": {
      "text/plain": [
       "100"
      ]
     },
     "execution_count": 89,
     "metadata": {},
     "output_type": "execute_result"
    }
   ],
   "source": [
    "totalFemale_players = femalePlayer_df[\"SN\"].nunique()\n",
    "totalFemale_players"
   ]
  },
  {
   "cell_type": "code",
   "execution_count": 90,
   "metadata": {},
   "outputs": [],
   "source": [
    "#Nondisclosed player analysis\n",
    "nonDisclPlayer_df = pyMoli_datafile_pd.loc[pyMoli_datafile_pd[\"Gender\"]==\"Other / Non-Disclosed\"]\n"
   ]
  },
  {
   "cell_type": "code",
   "execution_count": 91,
   "metadata": {},
   "outputs": [],
   "source": [
    "totalNonDiscl_players =nonDisclPlayer_df[\"SN\"].nunique()"
   ]
  },
  {
   "cell_type": "code",
   "execution_count": 92,
   "metadata": {},
   "outputs": [],
   "source": [
    "perctMale_players = round((totalMale_players/Total_players)*100, 2)"
   ]
  },
  {
   "cell_type": "code",
   "execution_count": 93,
   "metadata": {},
   "outputs": [],
   "source": [
    "perctFemale_players = round((totalFemale_players/Total_players)*100, 2)"
   ]
  },
  {
   "cell_type": "code",
   "execution_count": 94,
   "metadata": {},
   "outputs": [],
   "source": [
    "perctNonDiscl_players = round((totalNonDiscl_players/Total_players)*100, 2)"
   ]
  },
  {
   "cell_type": "code",
   "execution_count": 95,
   "metadata": {},
   "outputs": [
    {
     "data": {
      "text/html": [
       "<div>\n",
       "<style scoped>\n",
       "    .dataframe tbody tr th:only-of-type {\n",
       "        vertical-align: middle;\n",
       "    }\n",
       "\n",
       "    .dataframe tbody tr th {\n",
       "        vertical-align: top;\n",
       "    }\n",
       "\n",
       "    .dataframe thead th {\n",
       "        text-align: right;\n",
       "    }\n",
       "</style>\n",
       "<table border=\"1\" class=\"dataframe\">\n",
       "  <thead>\n",
       "    <tr style=\"text-align: right;\">\n",
       "      <th></th>\n",
       "      <th>Gender</th>\n",
       "      <th>Percentage</th>\n",
       "      <th>Players Count</th>\n",
       "    </tr>\n",
       "  </thead>\n",
       "  <tbody>\n",
       "    <tr>\n",
       "      <th>0</th>\n",
       "      <td>Male</td>\n",
       "      <td>81.15</td>\n",
       "      <td>465</td>\n",
       "    </tr>\n",
       "    <tr>\n",
       "      <th>1</th>\n",
       "      <td>Female</td>\n",
       "      <td>17.45</td>\n",
       "      <td>100</td>\n",
       "    </tr>\n",
       "    <tr>\n",
       "      <th>2</th>\n",
       "      <td>Non Discl</td>\n",
       "      <td>1.40</td>\n",
       "      <td>8</td>\n",
       "    </tr>\n",
       "  </tbody>\n",
       "</table>\n",
       "</div>"
      ],
      "text/plain": [
       "      Gender  Percentage  Players Count\n",
       "0       Male       81.15            465\n",
       "1     Female       17.45            100\n",
       "2  Non Discl        1.40              8"
      ]
     },
     "execution_count": 95,
     "metadata": {},
     "output_type": "execute_result"
    }
   ],
   "source": [
    "df_Gender_Demographics = pd.DataFrame({\"Gender\": [\"Male\", \"Female\", \"Non Discl\"], \"Percentage\" :[perctMale_players, perctFemale_players, perctNonDiscl_players], \"Players Count\":[totalMale_players, totalFemale_players, totalNonDiscl_players] })\n",
    "df_Gender_Demographics"
   ]
  },
  {
   "cell_type": "code",
   "execution_count": 96,
   "metadata": {},
   "outputs": [],
   "source": [
    "total_malePurchPrice = malePlayer_df[\"Price\"].sum()"
   ]
  },
  {
   "cell_type": "code",
   "execution_count": 97,
   "metadata": {},
   "outputs": [],
   "source": [
    "avg_malepurchPrice = round(total_malePurchPrice/totalMale_players, 2)"
   ]
  },
  {
   "cell_type": "code",
   "execution_count": 98,
   "metadata": {},
   "outputs": [],
   "source": [
    "total_femalePurchPrice = round(femalePlayer_df[\"Price\"].sum(), 2)"
   ]
  },
  {
   "cell_type": "code",
   "execution_count": 99,
   "metadata": {},
   "outputs": [],
   "source": [
    "avg_femalepurchPrice = round(total_femalePurchPrice/totalFemale_players, 2)"
   ]
  },
  {
   "cell_type": "code",
   "execution_count": 100,
   "metadata": {},
   "outputs": [],
   "source": [
    "total_nonDisclpurchPrice = round(nonDisclPlayer_df[\"Price\"].sum(), 2)"
   ]
  },
  {
   "cell_type": "code",
   "execution_count": 101,
   "metadata": {},
   "outputs": [],
   "source": [
    "avg_nonDisclpurchPrice = round(total_nonDisclpurchPrice/totalNonDiscl_players, 2)"
   ]
  },
  {
   "cell_type": "code",
   "execution_count": 102,
   "metadata": {},
   "outputs": [],
   "source": [
    "male_price_max = malePlayer_df[\"Price\"].max()\n"
   ]
  },
  {
   "cell_type": "code",
   "execution_count": 103,
   "metadata": {},
   "outputs": [],
   "source": [
    "male_price_min = malePlayer_df[\"Price\"].min()"
   ]
  },
  {
   "cell_type": "code",
   "execution_count": 104,
   "metadata": {},
   "outputs": [],
   "source": [
    "female_price_max = femalePlayer_df[\"Price\"].max()"
   ]
  },
  {
   "cell_type": "code",
   "execution_count": 105,
   "metadata": {},
   "outputs": [],
   "source": [
    "female_price_min = femalePlayer_df[\"Price\"].min()"
   ]
  },
  {
   "cell_type": "code",
   "execution_count": 106,
   "metadata": {},
   "outputs": [],
   "source": [
    "nonDiscl_price_max = nonDisclPlayer_df[\"Price\"].max()"
   ]
  },
  {
   "cell_type": "code",
   "execution_count": 107,
   "metadata": {},
   "outputs": [],
   "source": [
    "nonDiscl_price_min = nonDisclPlayer_df[\"Price\"].min()"
   ]
  },
  {
   "cell_type": "code",
   "execution_count": 108,
   "metadata": {},
   "outputs": [],
   "source": [
    "normalized_scale_min = pyMoli_datafile_pd[\"Price\"].apply(np.floor).min()"
   ]
  },
  {
   "cell_type": "code",
   "execution_count": 109,
   "metadata": {},
   "outputs": [],
   "source": [
    "normalized_scale_max  = pyMoli_datafile_pd[\"Price\"].apply(np.ceil).max()"
   ]
  },
  {
   "cell_type": "code",
   "execution_count": 110,
   "metadata": {},
   "outputs": [],
   "source": [
    "norm_total_male = round((normalized_scale_min)+(((avg_malepurchPrice-male_price_min)*(normalized_scale_max-normalized_scale_min))/(male_price_max-male_price_min)), 2)\n",
    "                     "
   ]
  },
  {
   "cell_type": "code",
   "execution_count": 111,
   "metadata": {},
   "outputs": [],
   "source": [
    "norm_total_female = round((normalized_scale_min)+(((avg_femalepurchPrice-female_price_min)*(normalized_scale_max-normalized_scale_min))/(female_price_max-female_price_min)), 2)\n"
   ]
  },
  {
   "cell_type": "code",
   "execution_count": 112,
   "metadata": {},
   "outputs": [],
   "source": [
    "norm_total_nonDiscl = round((normalized_scale_min)+(((avg_nonDisclpurchPrice-nonDiscl_price_min)*(normalized_scale_max-normalized_scale_min))/(nonDiscl_price_max-nonDiscl_price_min)), 2)\n"
   ]
  },
  {
   "cell_type": "code",
   "execution_count": 113,
   "metadata": {},
   "outputs": [
    {
     "data": {
      "text/html": [
       "<div>\n",
       "<style scoped>\n",
       "    .dataframe tbody tr th:only-of-type {\n",
       "        vertical-align: middle;\n",
       "    }\n",
       "\n",
       "    .dataframe tbody tr th {\n",
       "        vertical-align: top;\n",
       "    }\n",
       "\n",
       "    .dataframe thead th {\n",
       "        text-align: right;\n",
       "    }\n",
       "</style>\n",
       "<table border=\"1\" class=\"dataframe\">\n",
       "  <thead>\n",
       "    <tr style=\"text-align: right;\">\n",
       "      <th></th>\n",
       "      <th>Gender</th>\n",
       "      <th>Normalized Totals</th>\n",
       "      <th>Purchase Count</th>\n",
       "      <th>Purchase Price Average</th>\n",
       "      <th>Total Purchase Price</th>\n",
       "    </tr>\n",
       "  </thead>\n",
       "  <tbody>\n",
       "    <tr>\n",
       "      <th>0</th>\n",
       "      <td>Male</td>\n",
       "      <td>4.05</td>\n",
       "      <td>465</td>\n",
       "      <td>4.02</td>\n",
       "      <td>1867.68</td>\n",
       "    </tr>\n",
       "    <tr>\n",
       "      <th>1</th>\n",
       "      <td>Female</td>\n",
       "      <td>3.86</td>\n",
       "      <td>100</td>\n",
       "      <td>3.83</td>\n",
       "      <td>382.91</td>\n",
       "    </tr>\n",
       "    <tr>\n",
       "      <th>2</th>\n",
       "      <td>Non Disclosed</td>\n",
       "      <td>5.25</td>\n",
       "      <td>8</td>\n",
       "      <td>4.47</td>\n",
       "      <td>35.74</td>\n",
       "    </tr>\n",
       "  </tbody>\n",
       "</table>\n",
       "</div>"
      ],
      "text/plain": [
       "          Gender  Normalized Totals  Purchase Count  Purchase Price Average  \\\n",
       "0           Male               4.05             465                    4.02   \n",
       "1         Female               3.86             100                    3.83   \n",
       "2  Non Disclosed               5.25               8                    4.47   \n",
       "\n",
       "   Total Purchase Price  \n",
       "0               1867.68  \n",
       "1                382.91  \n",
       "2                 35.74  "
      ]
     },
     "execution_count": 113,
     "metadata": {},
     "output_type": "execute_result"
    }
   ],
   "source": [
    "#final Gender analysis\n",
    "df_PurchasingAnalysis = pd.DataFrame({\"Gender\":[\"Male\", \"Female\", \"Non Disclosed\"], \"Purchase Count\": [totalMale_players, totalFemale_players, totalNonDiscl_players], \"Purchase Price Average\":[avg_malepurchPrice, avg_femalepurchPrice, avg_nonDisclpurchPrice], \"Total Purchase Price\": [total_malePurchPrice, total_femalePurchPrice,total_nonDisclpurchPrice], \"Normalized Totals\":[norm_total_male ,norm_total_female,norm_total_nonDiscl]})\n",
    "df_PurchasingAnalysis   "
   ]
  },
  {
   "cell_type": "code",
   "execution_count": 185,
   "metadata": {},
   "outputs": [],
   "source": [
    "ageAnalysis_pd = pd.read_json(pyMoli_datafile)"
   ]
  },
  {
   "cell_type": "code",
   "execution_count": 188,
   "metadata": {},
   "outputs": [],
   "source": [
    "ageAnalysis_SN_pd = ageAnalysis_pd.drop_duplicates('SN')"
   ]
  },
  {
   "cell_type": "code",
   "execution_count": 148,
   "metadata": {},
   "outputs": [],
   "source": [
    "#Sorting all age goups in bins\n",
    "bins =[0,10,15,20,25,30, 35, 40, 45]\n",
    "group_names = [\"<10\", \"10-14\", \"15-19\", \"20-24\", \"25-29\", \"30-34\", \"35-39\",\">40\"]"
   ]
  },
  {
   "cell_type": "code",
   "execution_count": 150,
   "metadata": {},
   "outputs": [
    {
     "name": "stderr",
     "output_type": "stream",
     "text": [
      "C:\\ProgramData\\Anaconda3\\lib\\site-packages\\ipykernel_launcher.py:1: SettingWithCopyWarning: \n",
      "A value is trying to be set on a copy of a slice from a DataFrame.\n",
      "Try using .loc[row_indexer,col_indexer] = value instead\n",
      "\n",
      "See the caveats in the documentation: http://pandas.pydata.org/pandas-docs/stable/indexing.html#indexing-view-versus-copy\n",
      "  \"\"\"Entry point for launching an IPython kernel.\n"
     ]
    },
    {
     "data": {
      "text/html": [
       "<div>\n",
       "<style scoped>\n",
       "    .dataframe tbody tr th:only-of-type {\n",
       "        vertical-align: middle;\n",
       "    }\n",
       "\n",
       "    .dataframe tbody tr th {\n",
       "        vertical-align: top;\n",
       "    }\n",
       "\n",
       "    .dataframe thead th {\n",
       "        text-align: right;\n",
       "    }\n",
       "</style>\n",
       "<table border=\"1\" class=\"dataframe\">\n",
       "  <thead>\n",
       "    <tr style=\"text-align: right;\">\n",
       "      <th></th>\n",
       "      <th>Age</th>\n",
       "      <th>Gender</th>\n",
       "      <th>Item ID</th>\n",
       "      <th>Item Name</th>\n",
       "      <th>Price</th>\n",
       "      <th>SN</th>\n",
       "      <th>Age_Summary</th>\n",
       "    </tr>\n",
       "  </thead>\n",
       "  <tbody>\n",
       "    <tr>\n",
       "      <th>0</th>\n",
       "      <td>38</td>\n",
       "      <td>Male</td>\n",
       "      <td>165</td>\n",
       "      <td>Bone Crushing Silver Skewer</td>\n",
       "      <td>3.37</td>\n",
       "      <td>Aelalis34</td>\n",
       "      <td>35-39</td>\n",
       "    </tr>\n",
       "    <tr>\n",
       "      <th>1</th>\n",
       "      <td>21</td>\n",
       "      <td>Male</td>\n",
       "      <td>119</td>\n",
       "      <td>Stormbringer, Dark Blade of Ending Misery</td>\n",
       "      <td>2.32</td>\n",
       "      <td>Eolo46</td>\n",
       "      <td>20-24</td>\n",
       "    </tr>\n",
       "    <tr>\n",
       "      <th>2</th>\n",
       "      <td>34</td>\n",
       "      <td>Male</td>\n",
       "      <td>174</td>\n",
       "      <td>Primitive Blade</td>\n",
       "      <td>2.46</td>\n",
       "      <td>Assastnya25</td>\n",
       "      <td>30-34</td>\n",
       "    </tr>\n",
       "    <tr>\n",
       "      <th>3</th>\n",
       "      <td>21</td>\n",
       "      <td>Male</td>\n",
       "      <td>92</td>\n",
       "      <td>Final Critic</td>\n",
       "      <td>1.36</td>\n",
       "      <td>Pheusrical25</td>\n",
       "      <td>20-24</td>\n",
       "    </tr>\n",
       "    <tr>\n",
       "      <th>4</th>\n",
       "      <td>23</td>\n",
       "      <td>Male</td>\n",
       "      <td>63</td>\n",
       "      <td>Stormfury Mace</td>\n",
       "      <td>1.27</td>\n",
       "      <td>Aela59</td>\n",
       "      <td>20-24</td>\n",
       "    </tr>\n",
       "  </tbody>\n",
       "</table>\n",
       "</div>"
      ],
      "text/plain": [
       "   Age Gender  Item ID                                  Item Name  Price  \\\n",
       "0   38   Male      165                Bone Crushing Silver Skewer   3.37   \n",
       "1   21   Male      119  Stormbringer, Dark Blade of Ending Misery   2.32   \n",
       "2   34   Male      174                            Primitive Blade   2.46   \n",
       "3   21   Male       92                               Final Critic   1.36   \n",
       "4   23   Male       63                             Stormfury Mace   1.27   \n",
       "\n",
       "             SN Age_Summary  \n",
       "0     Aelalis34       35-39  \n",
       "1        Eolo46       20-24  \n",
       "2   Assastnya25       30-34  \n",
       "3  Pheusrical25       20-24  \n",
       "4        Aela59       20-24  "
      ]
     },
     "execution_count": 150,
     "metadata": {},
     "output_type": "execute_result"
    }
   ],
   "source": [
    "ageAnalysis_SN_pd[\"Age_Summary\"] = pd.cut(ageAnalysis_SN_pd[\"Age\"], bins, labels = group_names)\n",
    "ageAnalysis_SN_pd.head()\n",
    "                    "
   ]
  },
  {
   "cell_type": "code",
   "execution_count": 151,
   "metadata": {},
   "outputs": [],
   "source": [
    "age_Summary_group = ageAnalysis_SN_pd.groupby(\"Age_Summary\")\n"
   ]
  },
  {
   "cell_type": "code",
   "execution_count": 192,
   "metadata": {},
   "outputs": [],
   "source": [
    "tot = age_Summary_group['SN'].count()"
   ]
  },
  {
   "cell_type": "code",
   "execution_count": 191,
   "metadata": {},
   "outputs": [],
   "source": [
    "percPlayers = round(tot/len(tot), 2)"
   ]
  },
  {
   "cell_type": "code",
   "execution_count": 200,
   "metadata": {},
   "outputs": [
    {
     "data": {
      "text/html": [
       "<div>\n",
       "<style scoped>\n",
       "    .dataframe tbody tr th:only-of-type {\n",
       "        vertical-align: middle;\n",
       "    }\n",
       "\n",
       "    .dataframe tbody tr th {\n",
       "        vertical-align: top;\n",
       "    }\n",
       "\n",
       "    .dataframe thead th {\n",
       "        text-align: right;\n",
       "    }\n",
       "</style>\n",
       "<table border=\"1\" class=\"dataframe\">\n",
       "  <thead>\n",
       "    <tr style=\"text-align: right;\">\n",
       "      <th></th>\n",
       "      <th>Percentage of Players</th>\n",
       "      <th>ToTal Count</th>\n",
       "    </tr>\n",
       "    <tr>\n",
       "      <th>Age_Summary</th>\n",
       "      <th></th>\n",
       "      <th></th>\n",
       "    </tr>\n",
       "  </thead>\n",
       "  <tbody>\n",
       "    <tr>\n",
       "      <th>&lt;10</th>\n",
       "      <td>2.75</td>\n",
       "      <td>22</td>\n",
       "    </tr>\n",
       "    <tr>\n",
       "      <th>10-14</th>\n",
       "      <td>6.75</td>\n",
       "      <td>54</td>\n",
       "    </tr>\n",
       "    <tr>\n",
       "      <th>15-19</th>\n",
       "      <td>17.38</td>\n",
       "      <td>139</td>\n",
       "    </tr>\n",
       "    <tr>\n",
       "      <th>20-24</th>\n",
       "      <td>29.25</td>\n",
       "      <td>234</td>\n",
       "    </tr>\n",
       "    <tr>\n",
       "      <th>25-29</th>\n",
       "      <td>6.50</td>\n",
       "      <td>52</td>\n",
       "    </tr>\n",
       "    <tr>\n",
       "      <th>30-34</th>\n",
       "      <td>5.50</td>\n",
       "      <td>44</td>\n",
       "    </tr>\n",
       "    <tr>\n",
       "      <th>35-39</th>\n",
       "      <td>3.12</td>\n",
       "      <td>25</td>\n",
       "    </tr>\n",
       "    <tr>\n",
       "      <th>&gt;40</th>\n",
       "      <td>0.38</td>\n",
       "      <td>3</td>\n",
       "    </tr>\n",
       "  </tbody>\n",
       "</table>\n",
       "</div>"
      ],
      "text/plain": [
       "             Percentage of Players  ToTal Count\n",
       "Age_Summary                                    \n",
       "<10                           2.75           22\n",
       "10-14                         6.75           54\n",
       "15-19                        17.38          139\n",
       "20-24                        29.25          234\n",
       "25-29                         6.50           52\n",
       "30-34                         5.50           44\n",
       "35-39                         3.12           25\n",
       ">40                           0.38            3"
      ]
     },
     "execution_count": 200,
     "metadata": {},
     "output_type": "execute_result"
    }
   ],
   "source": [
    "#Purchase Summary by age group\n",
    "purchase_summary = pd.DataFrame({\"ToTal Count\":tot, \"Percentage of Players\": percPlayers})\n",
    "purchase_summary"
   ]
  },
  {
   "cell_type": "code",
   "execution_count": 201,
   "metadata": {},
   "outputs": [],
   "source": [
    "avgPurChasePrice=round(age_Summary_group[\"Price\"].mean(), 2)\n"
   ]
  },
  {
   "cell_type": "code",
   "execution_count": 202,
   "metadata": {},
   "outputs": [],
   "source": [
    "totalPurchasePrice = round(age_Summary_group[\"Price\"].sum(), 2)\n"
   ]
  },
  {
   "cell_type": "code",
   "execution_count": 203,
   "metadata": {},
   "outputs": [],
   "source": [
    "purchaseCounts = age_Summary_group[\"Item ID\"].count()"
   ]
  },
  {
   "cell_type": "code",
   "execution_count": 204,
   "metadata": {},
   "outputs": [],
   "source": [
    "normalized_agescale_min = age_Summary_group[\"Price\"].apply(np.floor).min()"
   ]
  },
  {
   "cell_type": "code",
   "execution_count": 205,
   "metadata": {},
   "outputs": [],
   "source": [
    "normalized_agescale_max = age_Summary_group[\"Price\"].apply(np.ceil).max()"
   ]
  },
  {
   "cell_type": "code",
   "execution_count": 209,
   "metadata": {},
   "outputs": [],
   "source": [
    "normTotalsAge = round(normalized_agescale_min +(((avgPurChasePrice-age_Summary_group[\"Price\"].min())*(normalized_agescale_max-normalized_agescale_min))/(age_Summary_group[\"Price\"].max()-age_Summary_group[\"Price\"].min())),1)\n"
   ]
  },
  {
   "cell_type": "code",
   "execution_count": 210,
   "metadata": {
    "scrolled": true
   },
   "outputs": [
    {
     "data": {
      "text/html": [
       "<div>\n",
       "<style scoped>\n",
       "    .dataframe tbody tr th:only-of-type {\n",
       "        vertical-align: middle;\n",
       "    }\n",
       "\n",
       "    .dataframe tbody tr th {\n",
       "        vertical-align: top;\n",
       "    }\n",
       "\n",
       "    .dataframe thead th {\n",
       "        text-align: right;\n",
       "    }\n",
       "</style>\n",
       "<table border=\"1\" class=\"dataframe\">\n",
       "  <thead>\n",
       "    <tr style=\"text-align: right;\">\n",
       "      <th></th>\n",
       "      <th>Average Purchase Price</th>\n",
       "      <th>Normalized Totals</th>\n",
       "      <th>Purchase Count</th>\n",
       "      <th>Total Purchase Price</th>\n",
       "    </tr>\n",
       "    <tr>\n",
       "      <th>Age_Summary</th>\n",
       "      <th></th>\n",
       "      <th></th>\n",
       "      <th></th>\n",
       "      <th></th>\n",
       "    </tr>\n",
       "  </thead>\n",
       "  <tbody>\n",
       "    <tr>\n",
       "      <th>&lt;10</th>\n",
       "      <td>3.16</td>\n",
       "      <td>3.1</td>\n",
       "      <td>22</td>\n",
       "      <td>69.50</td>\n",
       "    </tr>\n",
       "    <tr>\n",
       "      <th>10-14</th>\n",
       "      <td>2.89</td>\n",
       "      <td>2.8</td>\n",
       "      <td>54</td>\n",
       "      <td>155.94</td>\n",
       "    </tr>\n",
       "    <tr>\n",
       "      <th>15-19</th>\n",
       "      <td>2.90</td>\n",
       "      <td>2.9</td>\n",
       "      <td>139</td>\n",
       "      <td>403.12</td>\n",
       "    </tr>\n",
       "    <tr>\n",
       "      <th>20-24</th>\n",
       "      <td>2.99</td>\n",
       "      <td>3.0</td>\n",
       "      <td>234</td>\n",
       "      <td>699.12</td>\n",
       "    </tr>\n",
       "    <tr>\n",
       "      <th>25-29</th>\n",
       "      <td>2.92</td>\n",
       "      <td>2.9</td>\n",
       "      <td>52</td>\n",
       "      <td>151.65</td>\n",
       "    </tr>\n",
       "    <tr>\n",
       "      <th>30-34</th>\n",
       "      <td>3.33</td>\n",
       "      <td>3.2</td>\n",
       "      <td>44</td>\n",
       "      <td>146.48</td>\n",
       "    </tr>\n",
       "    <tr>\n",
       "      <th>35-39</th>\n",
       "      <td>2.87</td>\n",
       "      <td>3.1</td>\n",
       "      <td>25</td>\n",
       "      <td>71.64</td>\n",
       "    </tr>\n",
       "    <tr>\n",
       "      <th>&gt;40</th>\n",
       "      <td>2.88</td>\n",
       "      <td>2.8</td>\n",
       "      <td>3</td>\n",
       "      <td>8.64</td>\n",
       "    </tr>\n",
       "  </tbody>\n",
       "</table>\n",
       "</div>"
      ],
      "text/plain": [
       "             Average Purchase Price  Normalized Totals  Purchase Count  \\\n",
       "Age_Summary                                                              \n",
       "<10                            3.16                3.1              22   \n",
       "10-14                          2.89                2.8              54   \n",
       "15-19                          2.90                2.9             139   \n",
       "20-24                          2.99                3.0             234   \n",
       "25-29                          2.92                2.9              52   \n",
       "30-34                          3.33                3.2              44   \n",
       "35-39                          2.87                3.1              25   \n",
       ">40                            2.88                2.8               3   \n",
       "\n",
       "             Total Purchase Price  \n",
       "Age_Summary                        \n",
       "<10                         69.50  \n",
       "10-14                      155.94  \n",
       "15-19                      403.12  \n",
       "20-24                      699.12  \n",
       "25-29                      151.65  \n",
       "30-34                      146.48  \n",
       "35-39                       71.64  \n",
       ">40                          8.64  "
      ]
     },
     "execution_count": 210,
     "metadata": {},
     "output_type": "execute_result"
    }
   ],
   "source": [
    "#Purchase analysis by age\n",
    "purchaseAnalysis_Summary = pd.DataFrame({\"Purchase Count\":purchaseCounts, \"Average Purchase Price\": avgPurChasePrice, \"Total Purchase Price\": totalPurchasePrice, \"Normalized Totals\": normTotalsAge})\n",
    "purchaseAnalysis_Summary"
   ]
  },
  {
   "cell_type": "code",
   "execution_count": 211,
   "metadata": {},
   "outputs": [],
   "source": [
    "topSpenderGroup = ageAnalysis_SN_pd.groupby(\"SN\")"
   ]
  },
  {
   "cell_type": "code",
   "execution_count": 212,
   "metadata": {},
   "outputs": [],
   "source": [
    "ts_count = topSpenderGroup[\"Item ID\"].count()"
   ]
  },
  {
   "cell_type": "code",
   "execution_count": 213,
   "metadata": {},
   "outputs": [],
   "source": [
    "ts_average_purchasePrice = round(topSpenderGroup[\"Price\"].mean(), 2)\n"
   ]
  },
  {
   "cell_type": "code",
   "execution_count": 214,
   "metadata": {},
   "outputs": [],
   "source": [
    "ts_tot_purchase_value = round(topSpenderGroup[\"Price\"].sum(), 2)"
   ]
  },
  {
   "cell_type": "code",
   "execution_count": 229,
   "metadata": {},
   "outputs": [],
   "source": [
    "top_spender_summary = pd.DataFrame( {\"Purchase Count\":ts_count,\n",
    "                                    \"Average Purchase Price\":ts_average_purchasePrice,\n",
    "                                    \"Total Purchase Value\": ts_tot_purchase_value} )"
   ]
  },
  {
   "cell_type": "code",
   "execution_count": 228,
   "metadata": {},
   "outputs": [],
   "source": [
    "#sorting to identify top spenders.\n",
    "sorrted_topspender = top_spender_summary.sort_values(by=\"Total Purchase Value\", ascending = False)"
   ]
  },
  {
   "cell_type": "code",
   "execution_count": 217,
   "metadata": {},
   "outputs": [
    {
     "data": {
      "text/html": [
       "<div>\n",
       "<style scoped>\n",
       "    .dataframe tbody tr th:only-of-type {\n",
       "        vertical-align: middle;\n",
       "    }\n",
       "\n",
       "    .dataframe tbody tr th {\n",
       "        vertical-align: top;\n",
       "    }\n",
       "\n",
       "    .dataframe thead th {\n",
       "        text-align: right;\n",
       "    }\n",
       "</style>\n",
       "<table border=\"1\" class=\"dataframe\">\n",
       "  <thead>\n",
       "    <tr style=\"text-align: right;\">\n",
       "      <th></th>\n",
       "      <th>Average Purchase Price</th>\n",
       "      <th>Purchase Count</th>\n",
       "      <th>Total Purchase Value</th>\n",
       "    </tr>\n",
       "    <tr>\n",
       "      <th>SN</th>\n",
       "      <th></th>\n",
       "      <th></th>\n",
       "      <th></th>\n",
       "    </tr>\n",
       "  </thead>\n",
       "  <tbody>\n",
       "    <tr>\n",
       "      <th>Palurrian69</th>\n",
       "      <td>4.95</td>\n",
       "      <td>1</td>\n",
       "      <td>4.95</td>\n",
       "    </tr>\n",
       "    <tr>\n",
       "      <th>Aeliriam77</th>\n",
       "      <td>4.95</td>\n",
       "      <td>1</td>\n",
       "      <td>4.95</td>\n",
       "    </tr>\n",
       "    <tr>\n",
       "      <th>Tyarithn67</th>\n",
       "      <td>4.95</td>\n",
       "      <td>1</td>\n",
       "      <td>4.95</td>\n",
       "    </tr>\n",
       "    <tr>\n",
       "      <th>Qiluard68</th>\n",
       "      <td>4.95</td>\n",
       "      <td>1</td>\n",
       "      <td>4.95</td>\n",
       "    </tr>\n",
       "    <tr>\n",
       "      <th>Saistyphos30</th>\n",
       "      <td>4.95</td>\n",
       "      <td>1</td>\n",
       "      <td>4.95</td>\n",
       "    </tr>\n",
       "  </tbody>\n",
       "</table>\n",
       "</div>"
      ],
      "text/plain": [
       "              Average Purchase Price  Purchase Count  Total Purchase Value\n",
       "SN                                                                        \n",
       "Palurrian69                     4.95               1                  4.95\n",
       "Aeliriam77                      4.95               1                  4.95\n",
       "Tyarithn67                      4.95               1                  4.95\n",
       "Qiluard68                       4.95               1                  4.95\n",
       "Saistyphos30                    4.95               1                  4.95"
      ]
     },
     "execution_count": 217,
     "metadata": {},
     "output_type": "execute_result"
    }
   ],
   "source": [
    "top_fiveSpender_df = sorrted_topspender.iloc[0:5:,[0,1,2,]]\n",
    "top_fiveSpender_df.head()"
   ]
  },
  {
   "cell_type": "code",
   "execution_count": 218,
   "metadata": {},
   "outputs": [],
   "source": [
    "mostProfitableitems = ageAnalysis_SN_pd. groupby(\"Item Name\")"
   ]
  },
  {
   "cell_type": "code",
   "execution_count": 219,
   "metadata": {},
   "outputs": [],
   "source": [
    "mp_count = mostProfitableitems[\"Item ID\"].count()"
   ]
  },
  {
   "cell_type": "code",
   "execution_count": 220,
   "metadata": {},
   "outputs": [],
   "source": [
    "mp_price = mostProfitableitems[\"Price\"].mean()"
   ]
  },
  {
   "cell_type": "code",
   "execution_count": 221,
   "metadata": {},
   "outputs": [],
   "source": [
    "mp_purchaseValue = round(mostProfitableitems[\"Price\"].sum(), 2)"
   ]
  },
  {
   "cell_type": "code",
   "execution_count": 222,
   "metadata": {},
   "outputs": [],
   "source": [
    "mp_itemID = mostProfitableitems[\"Item ID\"].unique()"
   ]
  },
  {
   "cell_type": "code",
   "execution_count": 223,
   "metadata": {},
   "outputs": [],
   "source": [
    "mostPopularitems_summary = pd.DataFrame({ \"Item ID\": mp_itemID, \"Item Price\": mp_price, \"Total Purchase Count\":mp_count, \"Total Purchase Value\": mp_purchaseValue})\n"
   ]
  },
  {
   "cell_type": "code",
   "execution_count": 224,
   "metadata": {},
   "outputs": [],
   "source": [
    "sorted_mostPopularitem  = mostPopularitems_summary.sort_values(by=\"Total Purchase Count\", ascending = False)"
   ]
  },
  {
   "cell_type": "code",
   "execution_count": 225,
   "metadata": {},
   "outputs": [
    {
     "data": {
      "text/html": [
       "<div>\n",
       "<style scoped>\n",
       "    .dataframe tbody tr th:only-of-type {\n",
       "        vertical-align: middle;\n",
       "    }\n",
       "\n",
       "    .dataframe tbody tr th {\n",
       "        vertical-align: top;\n",
       "    }\n",
       "\n",
       "    .dataframe thead th {\n",
       "        text-align: right;\n",
       "    }\n",
       "</style>\n",
       "<table border=\"1\" class=\"dataframe\">\n",
       "  <thead>\n",
       "    <tr style=\"text-align: right;\">\n",
       "      <th></th>\n",
       "      <th>Item ID</th>\n",
       "      <th>Item Price</th>\n",
       "      <th>Total Purchase Count</th>\n",
       "      <th>Total Purchase Value</th>\n",
       "    </tr>\n",
       "    <tr>\n",
       "      <th>Item Name</th>\n",
       "      <th></th>\n",
       "      <th></th>\n",
       "      <th></th>\n",
       "      <th></th>\n",
       "    </tr>\n",
       "  </thead>\n",
       "  <tbody>\n",
       "    <tr>\n",
       "      <th>Arcane Gem</th>\n",
       "      <td>[84]</td>\n",
       "      <td>2.23</td>\n",
       "      <td>9</td>\n",
       "      <td>20.07</td>\n",
       "    </tr>\n",
       "    <tr>\n",
       "      <th>Woeful Adamantite Claymore</th>\n",
       "      <td>[175]</td>\n",
       "      <td>1.24</td>\n",
       "      <td>8</td>\n",
       "      <td>9.92</td>\n",
       "    </tr>\n",
       "    <tr>\n",
       "      <th>Serenity</th>\n",
       "      <td>[13]</td>\n",
       "      <td>1.49</td>\n",
       "      <td>8</td>\n",
       "      <td>11.92</td>\n",
       "    </tr>\n",
       "    <tr>\n",
       "      <th>Bonecarvin Battle Axe</th>\n",
       "      <td>[44]</td>\n",
       "      <td>2.46</td>\n",
       "      <td>8</td>\n",
       "      <td>19.68</td>\n",
       "    </tr>\n",
       "    <tr>\n",
       "      <th>Betrayal, Whisper of Grieving Widows</th>\n",
       "      <td>[39]</td>\n",
       "      <td>2.35</td>\n",
       "      <td>8</td>\n",
       "      <td>18.80</td>\n",
       "    </tr>\n",
       "  </tbody>\n",
       "</table>\n",
       "</div>"
      ],
      "text/plain": [
       "                                     Item ID  Item Price  \\\n",
       "Item Name                                                  \n",
       "Arcane Gem                              [84]        2.23   \n",
       "Woeful Adamantite Claymore             [175]        1.24   \n",
       "Serenity                                [13]        1.49   \n",
       "Bonecarvin Battle Axe                   [44]        2.46   \n",
       "Betrayal, Whisper of Grieving Widows    [39]        2.35   \n",
       "\n",
       "                                      Total Purchase Count  \\\n",
       "Item Name                                                    \n",
       "Arcane Gem                                               9   \n",
       "Woeful Adamantite Claymore                               8   \n",
       "Serenity                                                 8   \n",
       "Bonecarvin Battle Axe                                    8   \n",
       "Betrayal, Whisper of Grieving Widows                     8   \n",
       "\n",
       "                                      Total Purchase Value  \n",
       "Item Name                                                   \n",
       "Arcane Gem                                           20.07  \n",
       "Woeful Adamantite Claymore                            9.92  \n",
       "Serenity                                             11.92  \n",
       "Bonecarvin Battle Axe                                19.68  \n",
       "Betrayal, Whisper of Grieving Widows                 18.80  "
      ]
     },
     "execution_count": 225,
     "metadata": {},
     "output_type": "execute_result"
    }
   ],
   "source": [
    "#most popular items after sorting and displaying top five \n",
    "mostPopularitems_df = sorted_mostPopularitem.iloc[0:5:,[0,1,2,3]]\n",
    "mostPopularitems_df.head()"
   ]
  },
  {
   "cell_type": "code",
   "execution_count": 226,
   "metadata": {},
   "outputs": [],
   "source": [
    "mostProfitableItems_df = mostPopularitems_summary.sort_values(by=\"Total Purchase Value\", ascending = False)"
   ]
  },
  {
   "cell_type": "code",
   "execution_count": 227,
   "metadata": {},
   "outputs": [
    {
     "data": {
      "text/html": [
       "<div>\n",
       "<style scoped>\n",
       "    .dataframe tbody tr th:only-of-type {\n",
       "        vertical-align: middle;\n",
       "    }\n",
       "\n",
       "    .dataframe tbody tr th {\n",
       "        vertical-align: top;\n",
       "    }\n",
       "\n",
       "    .dataframe thead th {\n",
       "        text-align: right;\n",
       "    }\n",
       "</style>\n",
       "<table border=\"1\" class=\"dataframe\">\n",
       "  <thead>\n",
       "    <tr style=\"text-align: right;\">\n",
       "      <th></th>\n",
       "      <th>Item ID</th>\n",
       "      <th>Item Price</th>\n",
       "      <th>Total Purchase Count</th>\n",
       "      <th>Total Purchase Value</th>\n",
       "    </tr>\n",
       "    <tr>\n",
       "      <th>Item Name</th>\n",
       "      <th></th>\n",
       "      <th></th>\n",
       "      <th></th>\n",
       "      <th></th>\n",
       "    </tr>\n",
       "  </thead>\n",
       "  <tbody>\n",
       "    <tr>\n",
       "      <th>Orenmir</th>\n",
       "      <td>[32]</td>\n",
       "      <td>4.95</td>\n",
       "      <td>6</td>\n",
       "      <td>29.70</td>\n",
       "    </tr>\n",
       "    <tr>\n",
       "      <th>Singed Scalpel</th>\n",
       "      <td>[103]</td>\n",
       "      <td>4.87</td>\n",
       "      <td>6</td>\n",
       "      <td>29.22</td>\n",
       "    </tr>\n",
       "    <tr>\n",
       "      <th>Retribution Axe</th>\n",
       "      <td>[34]</td>\n",
       "      <td>4.14</td>\n",
       "      <td>7</td>\n",
       "      <td>28.98</td>\n",
       "    </tr>\n",
       "    <tr>\n",
       "      <th>Splitter, Foe Of Subtlety</th>\n",
       "      <td>[107]</td>\n",
       "      <td>3.61</td>\n",
       "      <td>7</td>\n",
       "      <td>25.27</td>\n",
       "    </tr>\n",
       "    <tr>\n",
       "      <th>Victor Iron Spikes</th>\n",
       "      <td>[66]</td>\n",
       "      <td>3.55</td>\n",
       "      <td>7</td>\n",
       "      <td>24.85</td>\n",
       "    </tr>\n",
       "  </tbody>\n",
       "</table>\n",
       "</div>"
      ],
      "text/plain": [
       "                          Item ID  Item Price  Total Purchase Count  \\\n",
       "Item Name                                                             \n",
       "Orenmir                      [32]        4.95                     6   \n",
       "Singed Scalpel              [103]        4.87                     6   \n",
       "Retribution Axe              [34]        4.14                     7   \n",
       "Splitter, Foe Of Subtlety   [107]        3.61                     7   \n",
       "Victor Iron Spikes           [66]        3.55                     7   \n",
       "\n",
       "                           Total Purchase Value  \n",
       "Item Name                                        \n",
       "Orenmir                                   29.70  \n",
       "Singed Scalpel                            29.22  \n",
       "Retribution Axe                           28.98  \n",
       "Splitter, Foe Of Subtlety                 25.27  \n",
       "Victor Iron Spikes                        24.85  "
      ]
     },
     "execution_count": 227,
     "metadata": {},
     "output_type": "execute_result"
    }
   ],
   "source": [
    "#most profitable items after displaying top five\n",
    "mostProfitableitems_df = mostProfitableItems_df.iloc[0:5:,[0,1,2,3]]\n",
    "mostProfitableitems_df.head()"
   ]
  },
  {
   "cell_type": "code",
   "execution_count": null,
   "metadata": {},
   "outputs": [],
   "source": []
  }
 ],
 "metadata": {
  "kernelspec": {
   "display_name": "Python 3",
   "language": "python",
   "name": "python3"
  },
  "language_info": {
   "codemirror_mode": {
    "name": "ipython",
    "version": 3
   },
   "file_extension": ".py",
   "mimetype": "text/x-python",
   "name": "python",
   "nbconvert_exporter": "python",
   "pygments_lexer": "ipython3",
   "version": "3.6.4"
  }
 },
 "nbformat": 4,
 "nbformat_minor": 2
}
